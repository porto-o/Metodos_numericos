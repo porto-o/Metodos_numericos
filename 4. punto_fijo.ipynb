{
 "cells": [
  {
   "cell_type": "markdown",
   "id": "13f934d2-a569-4b44-8490-fff1138f7089",
   "metadata": {},
   "source": [
    "# Métodos abiertos\n",
    "\n",
    "En los métodos de bisección y falsa posición (métodos cerrados), se necesitaba de un intervalo que contuviera la raíz para que pudieramos ir haciendo la aproximación, el objetivo de esto era ir acortando en cada iteración nuestro intervalo $[a,b]$. Se les conocía como métodos cerrados porque necesitabamos un punto inicial y uno final.\n",
    "\n"
   ]
  },
  {
   "cell_type": "markdown",
   "id": "8d7d22d4-8b78-4f72-9462-1b4bc1c71771",
   "metadata": {},
   "source": [
    "## Método de punto fijo\n",
    "\n",
    "La diferencia principal de este método es que ya no se necesita un intervalo $[a.b]$ si no que necesitamo únicamente **un punto**.\n",
    "\n",
    "Debido a que solo se necesita un punto, se categoriza como método abierto.\n",
    "\n",
    "* ¿Qué es un punto fijo?\n",
    "\n",
    "    Un punto fijo de una función es un número que no cambia su valor cuando se le es aplicada la función\n",
    "    \n",
    "    $f(x) = x$"
   ]
  },
  {
   "cell_type": "markdown",
   "id": "5fa098b8-c3da-4710-a18f-b1836a82c813",
   "metadata": {},
   "source": [
    "### Procedimiento\n",
    "\n",
    "Sabemos que las raíces de una función se encuentra cuando $f(x)=0$.\n",
    "\n",
    "1. Para utilizar el método de punto fijo necesitamos una parametrización de la función $f(x)$ de tal forma que la variable quede solita, es decir:\n",
    "\n",
    "<div style=\"text-align: center;\">$g(x) = x$</div>\n",
    "\n",
    "2. Ya que tenemos la parametrización, las iteraciones para hallar las raíces de nuestra ecuación serán de la forma:\n",
    "\n",
    "<div style=\"text-align: center;\">$x_{i+1} = g(x_{i})$</div>\n",
    "\n",
    "3. Para empezar, debido a que no tenemos un intervalo, propondrémos un punto $x_{0}$.\n",
    "\n",
    "    Nuestras iteraciones quedarían de la siguiente forma:\n",
    "\n",
    "<div style=\"text-align: center;\">\n",
    "    <ul style=\"list-style: none;\">\n",
    "        <li>$x_{1} = g(x_{0})$</li>\n",
    "        <li>$x_{2} = g(x_{1})$</li>\n",
    "        <li>$x_{3} = g(x_{2})$</li>\n",
    "        <li>.</li>\n",
    "        <li>.</li>\n",
    "        <li>.</li>\n",
    "        <li>$x_{i+1} = g(x_{i})$</li>\n",
    "    </ul>\n",
    "</div>"
   ]
  },
  {
   "attachments": {
    "e2feab80-6ff1-493a-a10d-faf707965e6e.png": {
     "image/png": "[encoded data removed]"
    }
   },
   "cell_type": "markdown",
   "id": "a62bd21b-ad26-472b-9ae8-8779af4eb229",
   "metadata": {},
   "source": [
    "## Interpretación geométrica\n",
    "\n",
    "**Convergencia**\n",
    "\n",
    "![image.png](attachment:e2feab80-6ff1-493a-a10d-faf707965e6e.png)\n",
    "\n",
    "**Divergencia**\n",
    "\n"
   ]
  },
  {
   "cell_type": "code",
   "execution_count": 18,
   "id": "f2e60157-ce57-442e-bcca-b1fc7f019b50",
   "metadata": {
    "tags": []
   },
   "outputs": [],
   "source": [
    "def punto_fijo(initial, tol, n):\n",
    "    for i in range(n):\n",
    "        p = g(initial)\n",
    "        if abs(p - initial) < tol:\n",
    "            return p\n",
    "        initial = p\n",
    "    return 'fail'"
   ]
  },
  {
   "cell_type": "code",
   "execution_count": 19,
   "id": "7763a6e6-ffab-4b31-a611-5ed64c659b46",
   "metadata": {
    "tags": []
   },
   "outputs": [],
   "source": [
    "def g(x):\n",
    "    return (10/(4+x))**(1/2)"
   ]
  },
  {
   "cell_type": "code",
   "execution_count": 22,
   "id": "41c79d04-1c60-4436-bd6d-b208bc2db1ca",
   "metadata": {
    "tags": []
   },
   "outputs": [],
   "source": [
    "def main():\n",
    "    print(punto_fijo(1.5, 0.0001, 80))"
   ]
  },
  {
   "cell_type": "code",
   "execution_count": 23,
   "id": "07cf24f3-5062-4e52-9be1-aeb2d539bd90",
   "metadata": {
    "tags": []
   },
   "outputs": [
    {
     "name": "stdout",
     "output_type": "stream",
     "text": [
      "1.365225594160525\n"
     ]
    }
   ],
   "source": [
    "main()"
   ]
  },
  {
   "cell_type": "code",
   "execution_count": null,
   "id": "9be707d0-eecc-467c-898f-e2cdcde8a95f",
   "metadata": {},
   "outputs": [],
   "source": []
  }
 ],
 "metadata": {
  "kernelspec": {
   "display_name": "Python 3 (ipykernel)",
   "language": "python",
   "name": "python3"
  },
  "language_info": {
   "codemirror_mode": {
    "name": "ipython",
    "version": 3
   },
   "file_extension": ".py",
   "mimetype": "text/x-python",
   "name": "python",
   "nbconvert_exporter": "python",
   "pygments_lexer": "ipython3",
   "version": "3.10.6"
  }
 },
 "nbformat": 4,
 "nbformat_minor": 5
}
